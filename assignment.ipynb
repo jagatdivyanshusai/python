{
  "nbformat": 4,
  "nbformat_minor": 0,
  "metadata": {
    "colab": {
      "provenance": [],
      "toc_visible": true,
      "authorship_tag": "ABX9TyOaRljtVJhtDTUDWMAuNj9/",
      "include_colab_link": true
    },
    "kernelspec": {
      "name": "python3",
      "display_name": "Python 3"
    },
    "language_info": {
      "name": "python"
    }
  },
  "cells": [
    {
      "cell_type": "markdown",
      "metadata": {
        "id": "view-in-github",
        "colab_type": "text"
      },
      "source": [
        "<a href=\"https://colab.research.google.com/github/jagatdivyanshusai/python/blob/main/assignment.ipynb\" target=\"_parent\"><img src=\"https://colab.research.google.com/assets/colab-badge.svg\" alt=\"Open In Colab\"/></a>"
      ]
    },
    {
      "cell_type": "markdown",
      "source": [
        "### 1.Write a code to reverse a string"
      ],
      "metadata": {
        "id": "a0oe5BacGyO5"
      }
    },
    {
      "cell_type": "markdown",
      "source": [
        "# New Section"
      ],
      "metadata": {
        "id": "gBmiZV3C9ddn"
      }
    },
    {
      "cell_type": "code",
      "execution_count": null,
      "metadata": {
        "colab": {
          "base_uri": "https://localhost:8080/",
          "height": 36
        },
        "id": "DL2wudygBRij",
        "outputId": "dccf2ec3-6c02-42d3-c097-1eeb802921c7"
      },
      "outputs": [
        {
          "output_type": "execute_result",
          "data": {
            "text/plain": [
              "'noD si eman yM'"
            ],
            "application/vnd.google.colaboratory.intrinsic+json": {
              "type": "string"
            }
          },
          "metadata": {},
          "execution_count": 1
        }
      ],
      "source": [
        "#Write a code to reverse a string\n",
        "string= \"My name is Don\"\n",
        "string[::-1]\n"
      ]
    },
    {
      "cell_type": "markdown",
      "source": [
        "\n",
        " 2.Write a code to count the number of vowels in a string\n",
        "\n",
        "\n"
      ],
      "metadata": {
        "id": "DzdotZ0qGwe4"
      }
    },
    {
      "cell_type": "code",
      "source": [
        "# Write a code to count the number of vowels in a string\n",
        "string= \"Kaun Banega Crorepati\"\n",
        "string.lower()\n",
        "count=0\n",
        "for i in string:\n",
        "  if (i==\"o\" or i==\"u\" or i==\"i\" or i==\"a\" or i==\"e\"):\n",
        "    count=count+1\n",
        "else:\n",
        "  print(\"Number of vowels are:\", count)\n"
      ],
      "metadata": {
        "id": "ub4avrwPB8L9",
        "colab": {
          "base_uri": "https://localhost:8080/"
        },
        "outputId": "032a9634-e784-4250-a1de-cf09d96814cb"
      },
      "execution_count": null,
      "outputs": [
        {
          "output_type": "stream",
          "name": "stdout",
          "text": [
            "Number of vowels are: 9\n"
          ]
        }
      ]
    },
    {
      "cell_type": "markdown",
      "source": [
        "3.Write a code to check if a given string is a palindrome or not\n"
      ],
      "metadata": {
        "id": "06TrSv4XHF37"
      }
    },
    {
      "cell_type": "code",
      "source": [
        "#Write a code to check if a given string is a palindrome or not\n",
        "str= input(\"Enter a string :\")\n",
        "a=str[::-1]\n",
        "if a==str:\n",
        "  print(\"this is palindrome\")\n",
        "else:\n",
        "    print(\"this is not palindrome\")\n"
      ],
      "metadata": {
        "colab": {
          "base_uri": "https://localhost:8080/"
        },
        "id": "vHJxk_TPBZ15",
        "outputId": "cbb4aa5f-6536-4901-df42-edab1f3340e4"
      },
      "execution_count": null,
      "outputs": [
        {
          "output_type": "stream",
          "name": "stdout",
          "text": [
            "Enter a string :malayalam\n",
            "this is palindrome\n"
          ]
        }
      ]
    },
    {
      "cell_type": "markdown",
      "source": [
        "4.Write a code to check if two given strings are anagrams of each other\n"
      ],
      "metadata": {
        "id": "9BoBzArhHJ2b"
      }
    },
    {
      "cell_type": "code",
      "source": [
        "#Write a code to check if two given strings are anagrams of each other\n",
        "s1=input(\"Enter 1st String:\")\n",
        "a=s1.lower()\n",
        "s2=input(\"Enter 2nd String:\")\n",
        "b=s2.lower()\n",
        "if  sorted(a)==sorted(b):\n",
        "  print(\"This is anagram\")\n",
        "else:\n",
        "    print(\"this is not an anagram\")\n",
        "\n",
        "\n"
      ],
      "metadata": {
        "colab": {
          "base_uri": "https://localhost:8080/"
        },
        "id": "y604VG8wGlww",
        "outputId": "cb03b3ed-9499-46db-97e5-b9d5f26bf1d9"
      },
      "execution_count": null,
      "outputs": [
        {
          "output_type": "stream",
          "name": "stdout",
          "text": [
            "Enter 1st String:fufu\n",
            "Enter 2nd String:nufu\n",
            "this is not an anagram\n"
          ]
        }
      ]
    },
    {
      "cell_type": "markdown",
      "source": [
        "\t5.Write a code to find all occurrences of a given substring within another string"
      ],
      "metadata": {
        "id": "sZOpMXLXGuiE"
      }
    },
    {
      "cell_type": "code",
      "source": [
        "#Write a code to find all occurrences of a given substring within another string\n",
        "s1=input(\"Enter String:\")\n",
        "a=s1.lower()\n",
        "s2=input(\"Enter sub string to search :\")\n",
        "b=s2.lower()\n",
        "if b in a:\n",
        "\n",
        "  print(\"count of occurances is :\", a.count(b))\n"
      ],
      "metadata": {
        "colab": {
          "base_uri": "https://localhost:8080/"
        },
        "id": "aWBE4YqlHCjv",
        "outputId": "da685687-214f-44e2-a5fd-d0d109f4d80e"
      },
      "execution_count": null,
      "outputs": [
        {
          "output_type": "stream",
          "name": "stdout",
          "text": [
            "Enter String:My name is Jagat is and is\n",
            "Enter sub string to search :Is\n",
            "count of occurances is : 3\n"
          ]
        }
      ]
    },
    {
      "cell_type": "markdown",
      "source": [
        "6.Write a code to perform basic string compression using the counts of repeated characters"
      ],
      "metadata": {
        "id": "jR0lLiFVZ71j"
      }
    },
    {
      "cell_type": "code",
      "source": [
        "#Write a code to perform basic string compression using the counts of repeated characters\n",
        "s1=input(\"Enter String:\")\n",
        "a=s1.lower()\n",
        "compressed =\"\"\n",
        "count=1\n",
        "for  i in range(len(a) - 1):\n",
        "   if a[i]==a[i+1]:\n",
        "    count += 1\n",
        "   else:\n",
        "    compressed += a[i] + str(count)\n",
        "    count = 1\n",
        "\n",
        "compressed += a[-1] + str(count)\n",
        "print(\"Compressed String:\", compressed)"
      ],
      "metadata": {
        "id": "hMlMPd3WaGTf",
        "colab": {
          "base_uri": "https://localhost:8080/"
        },
        "outputId": "3343a983-ef30-4d8d-c574-8aabfc7183f3"
      },
      "execution_count": null,
      "outputs": [
        {
          "output_type": "stream",
          "name": "stdout",
          "text": [
            "Enter String:aabbccc\n",
            "Compressed String:  a2b2c3\n"
          ]
        }
      ]
    },
    {
      "cell_type": "markdown",
      "source": [
        "7.Write a code to determine if a string has all unique characters"
      ],
      "metadata": {
        "id": "BYtFh7hmcpBy"
      }
    },
    {
      "cell_type": "code",
      "source": [],
      "metadata": {
        "id": "UCGHWq_LrAcE"
      },
      "execution_count": null,
      "outputs": []
    },
    {
      "cell_type": "code",
      "source": [
        "#Write a code to determine if a string has all unique characters\n",
        "s1 = input(\"Enter String: \")\n",
        "def has_unique_characters(s1):\n",
        "    return len(s1) == len(set(s1))\n",
        "\n",
        "if has_unique_characters(s1):\n",
        "    print(\"The string has all unique characters.\")\n",
        "else:\n",
        "    print(\"The string has duplicate characters.\")\n",
        "\n"
      ],
      "metadata": {
        "id": "4ewcaMpCcy4U",
        "colab": {
          "base_uri": "https://localhost:8080/"
        },
        "outputId": "007c19d7-f933-47a2-d911-5ae193aa5c2d"
      },
      "execution_count": null,
      "outputs": [
        {
          "output_type": "stream",
          "name": "stdout",
          "text": [
            "Enter String: all\n",
            "The string has duplicate characters.\n"
          ]
        }
      ]
    },
    {
      "cell_type": "markdown",
      "source": [
        "8.Write a code to convert a given string to uppercase or lowercase"
      ],
      "metadata": {
        "id": "qsjKjJKbzvQ4"
      }
    },
    {
      "cell_type": "code",
      "source": [
        "#Write a code to convert a given string to uppercase or lowercase\n",
        "s1=input(\"Enter String:\")\n",
        "b=input(\"Press 1 for lowercase or Press 2 for Uppercase:\")\n",
        "\n",
        "if  b== \"1\":\n",
        "         print(\"This is lowercase:\", s1.lower())\n",
        "elif b== \"2\":\n",
        "         print(\"This is uppercase\", s1.upper())\n",
        "else:\n",
        "         print(\"Invalid input. Please enter 1 or 2.\")"
      ],
      "metadata": {
        "id": "ZESlF07CS-Bk",
        "colab": {
          "base_uri": "https://localhost:8080/"
        },
        "outputId": "08a1eba0-1311-4bfa-c9c3-f9dc5a9face0"
      },
      "execution_count": null,
      "outputs": [
        {
          "output_type": "stream",
          "name": "stdout",
          "text": [
            "Enter String:Jagat\n",
            "Press 1 for lowercase or Press 2 for Uppercase:1\n",
            "This is lowercase: jagat\n"
          ]
        }
      ]
    },
    {
      "cell_type": "markdown",
      "source": [
        "9. Write a code to count the number of words in a string"
      ],
      "metadata": {
        "id": "3aySPxiIgGq8"
      }
    },
    {
      "cell_type": "code",
      "source": [
        "#Write a code to count the number of words in a string\n",
        "\n",
        "def count_words(s1):\n",
        "    words = s1.split()\n",
        "    return len(words)\n",
        "s1=input(\"Enter String:\")\n",
        "word_count = count_words(s1)\n",
        "print(f\"The number of words in the string is: {word_count}\")\n"
      ],
      "metadata": {
        "id": "L3Me1_eagQen",
        "colab": {
          "base_uri": "https://localhost:8080/"
        },
        "outputId": "cac48c35-0af6-4275-8378-f7a6b30a4b03"
      },
      "execution_count": null,
      "outputs": [
        {
          "output_type": "stream",
          "name": "stdout",
          "text": [
            "Enter String:My name is wolf\n",
            "The number of words in the string is: 4\n"
          ]
        }
      ]
    },
    {
      "cell_type": "markdown",
      "source": [
        " 10.Write a code to concatenate two strings without using the + operator"
      ],
      "metadata": {
        "id": "sn7CZxjaqTkT"
      }
    },
    {
      "cell_type": "code",
      "source": [
        "#Write a code to concatenate two strings without using the + operator\n",
        "def concatenate_strings(str1, str2):\n",
        "    return f\"{str1}{str2}\"\n",
        "s1=input(\"Enter first String :\")\n",
        "s2=input(\"Enter second String :\")\n",
        "result = concatenate_strings(s1, s2)\n",
        "print(result)"
      ],
      "metadata": {
        "colab": {
          "base_uri": "https://localhost:8080/"
        },
        "id": "Gset8b3aqYRL",
        "outputId": "47eb42e8-b34f-4c19-c6f8-f4ed5d6226d8"
      },
      "execution_count": null,
      "outputs": [
        {
          "output_type": "stream",
          "name": "stdout",
          "text": [
            "Enter first String :with\n",
            "Enter second String :out\n",
            "without\n"
          ]
        }
      ]
    },
    {
      "cell_type": "markdown",
      "source": [
        "11.Write a code to remove all occurrences of a specific element from a list"
      ],
      "metadata": {
        "id": "Bz6uyqOLtNiP"
      }
    },
    {
      "cell_type": "code",
      "source": [
        "#Write a code to remove all occurrences of a specific element from a list\n",
        "def remove_all_occurrences(lst, element):\n",
        "    return [item for item in lst if item != element]\n",
        "\n",
        "# Example usage\n",
        "my_list = [1, 2, 3, 4, 2, 5, 2, 6]\n",
        "element_to_remove = 2\n",
        "result = remove_all_occurrences(my_list, element_to_remove)\n",
        "\n",
        "print(\"Original list:\", my_list)\n",
        "print(\"List after removing all occurrences of\", element_to_remove, \":\", result)"
      ],
      "metadata": {
        "id": "sd8g14wLtWCw",
        "colab": {
          "base_uri": "https://localhost:8080/"
        },
        "outputId": "35c6929d-9595-4ffb-de6c-a3dab357fcf0"
      },
      "execution_count": null,
      "outputs": [
        {
          "output_type": "stream",
          "name": "stdout",
          "text": [
            "Original list: [1, 2, 3, 4, 2, 5, 2, 6]\n",
            "List after removing all occurrences of 2 : [1, 3, 4, 5, 6]\n"
          ]
        }
      ]
    },
    {
      "cell_type": "markdown",
      "source": [
        "12. Implement a code to find the second largest number in a given list of integers"
      ],
      "metadata": {
        "id": "nn5cdEC6-TtS"
      }
    },
    {
      "cell_type": "code",
      "source": [
        "# Implement a code to find the second largest number in a given list of integers\n",
        "def find_second_largest(numbers):\n",
        "    unique_numbers = list(set(numbers))\n",
        "    unique_numbers.sort(reverse=True)\n",
        "    return unique_numbers[1] if len(unique_numbers) >= 2 else None\n",
        "\n",
        "numbers = [10, 20, 4, 45, 99, 99]\n",
        "second_largest = find_second_largest(numbers)\n",
        "if second_largest is not None:\n",
        "    print(\"The second largest number is:\", second_largest)\n",
        "else:\n",
        "    print(\"List must contain at least two unique numbers\")"
      ],
      "metadata": {
        "colab": {
          "base_uri": "https://localhost:8080/"
        },
        "id": "YRObytr8-cPl",
        "outputId": "0b467058-6851-4171-ac7d-f68534890ec9"
      },
      "execution_count": null,
      "outputs": [
        {
          "output_type": "stream",
          "name": "stdout",
          "text": [
            "The second largest number is: 45\n"
          ]
        }
      ]
    },
    {
      "cell_type": "markdown",
      "source": [
        "13.Create a code to count the occurrences of each element in a list and return a dictionary with elements as\n",
        "keys and their counts as values"
      ],
      "metadata": {
        "id": "2Hr_Sf7dfkmw"
      }
    },
    {
      "cell_type": "code",
      "source": [
        "#Create a code to count the occurrences of each element in a list and return a dictionary with elements as\n",
        "#keys and their counts as values\n",
        "def count_occurrences(input_list):\n",
        "    count_dict = {}\n",
        "    for element in input_list:\n",
        "        if element in count_dict:\n",
        "            count_dict[element] += 1\n",
        "        else:\n",
        "            count_dict[element] = 1\n",
        "    return count_dict\n",
        "\n",
        "input_list = [1, 2, 2, 3, 4, 4, 4, 5]\n",
        "result = count_occurrences(input_list)\n",
        "print(result)\n",
        "\n"
      ],
      "metadata": {
        "id": "-ZFKo_X8fmjP",
        "colab": {
          "base_uri": "https://localhost:8080/"
        },
        "outputId": "e086189c-dfc3-43cf-da76-390326f9465d"
      },
      "execution_count": null,
      "outputs": [
        {
          "output_type": "stream",
          "name": "stdout",
          "text": [
            "{1: 1, 2: 2, 3: 1, 4: 3, 5: 1}\n"
          ]
        }
      ]
    },
    {
      "cell_type": "markdown",
      "source": [
        "14.Write a code to reverse a list in-place without using any built-in reverse functions"
      ],
      "metadata": {
        "id": "iuJo00oJfm_C"
      }
    },
    {
      "cell_type": "code",
      "source": [
        "#Write a code to reverse a list in-place without using any built-in reverse functions\n",
        "def reverse_list(lst):\n",
        "    left = 0\n",
        "    right = len(lst) - 1\n",
        "\n",
        "    while left < right:\n",
        "        lst[left], lst[right] = lst[right], lst[left]\n",
        "        left += 1\n",
        "        right -= 1\n",
        "\n",
        "my_list = [1, 2, 3, 4, 5]\n",
        "reverse_list(my_list)\n",
        "print(\"Reversed list:\", my_list)\n"
      ],
      "metadata": {
        "id": "ya-sUlH1fpit",
        "colab": {
          "base_uri": "https://localhost:8080/"
        },
        "outputId": "4b0c7f0c-5798-44b0-dc55-9a6a1adb80eb"
      },
      "execution_count": null,
      "outputs": [
        {
          "output_type": "stream",
          "name": "stdout",
          "text": [
            "Reversed list: [5, 4, 3, 2, 1]\n"
          ]
        }
      ]
    },
    {
      "cell_type": "markdown",
      "source": [
        "15. Implement a code to find and remove duplicates from a list while preserving the original order of\n",
        "elements"
      ],
      "metadata": {
        "id": "Tom3eSQkfp4R"
      }
    },
    {
      "cell_type": "code",
      "source": [
        " #Implement a code to find and remove duplicates from a list while preserving the original order of\n",
        "#elements\n",
        "def remove_duplicates(lst):\n",
        "    seen = set()\n",
        "    result = []\n",
        "\n",
        "    for item in lst:\n",
        "        if item not in seen:\n",
        "            result.append(item)\n",
        "            seen.add(item)\n",
        "\n",
        "    return result\n",
        "\n",
        "my_list = [1, 2, 3, 2, 4, 1, 5, 3]\n",
        "unique_list = remove_duplicates(my_list)\n",
        "print(\"List with duplicates removed:\", unique_list)\n"
      ],
      "metadata": {
        "id": "7qwdgYEcfrUj",
        "colab": {
          "base_uri": "https://localhost:8080/"
        },
        "outputId": "a22c177a-75ea-4a44-e465-ff5bfb11bf71"
      },
      "execution_count": null,
      "outputs": [
        {
          "output_type": "stream",
          "name": "stdout",
          "text": [
            "List with duplicates removed: [1, 2, 3, 4, 5]\n"
          ]
        }
      ]
    },
    {
      "cell_type": "markdown",
      "source": [
        "16.Create a code to check if a given list is sorted (either in ascending or descending order) or not"
      ],
      "metadata": {
        "id": "tnY0RhDUf1qb"
      }
    },
    {
      "cell_type": "code",
      "source": [
        "#Create a code to check if a given list is sorted (either in ascending or descending order) or not\n",
        "\n",
        "def is_sorted(lst):\n",
        "    ascending = all(lst[i] <= lst[i + 1] for i in range(len(lst) - 1))\n",
        "    descending = all(lst[i] >= lst[i + 1] for i in range(len(lst) - 1))\n",
        "\n",
        "    if ascending:\n",
        "        return \"The list is sorted in ascending order.\"\n",
        "    elif descending:\n",
        "        return \"The list is sorted in descending order.\"\n",
        "    else:\n",
        "        return \"The list is not sorted.\"\n",
        "\n",
        "user_input = input(\"Enter a list of numbers separated by spaces: \")\n",
        "user_list = list(map(int, user_input.split()))\n",
        "\n",
        "result = is_sorted(user_list)\n",
        "print(result)\n"
      ],
      "metadata": {
        "id": "vVYSau-jf2n8",
        "colab": {
          "base_uri": "https://localhost:8080/"
        },
        "outputId": "5eb6d3f3-91c3-431b-9a98-705f023510f7"
      },
      "execution_count": null,
      "outputs": [
        {
          "output_type": "stream",
          "name": "stdout",
          "text": [
            "Enter a list of numbers separated by spaces: 1 2 3 4\n",
            "The list is sorted in ascending order.\n"
          ]
        }
      ]
    },
    {
      "cell_type": "markdown",
      "source": [
        "17.Write a code to merge two sorted lists into a single sorted list\n",
        "\n"
      ],
      "metadata": {
        "id": "QHQVv1tkf27G"
      }
    },
    {
      "cell_type": "code",
      "source": [
        "#Write a code to merge two sorted lists into a single sorted list\n",
        "\n",
        "def merge_sorted_lists(list1, list2):\n",
        "    return sorted(list1 + list2)\n",
        "\n",
        "list1 = list(map(int, input(\"Enter the first sorted list (space-separated): \").split()))\n",
        "list2 = list(map(int, input(\"Enter the second sorted list (space-separated): \").split()))\n",
        "\n",
        "merged = merge_sorted_lists(list1, list2)\n",
        "print(\"Merged sorted list:\", merged)\n"
      ],
      "metadata": {
        "id": "07R3u9_Bf4BW",
        "colab": {
          "base_uri": "https://localhost:8080/"
        },
        "outputId": "57d58037-6b81-47fd-8ab7-1a3b1c1d30b1"
      },
      "execution_count": null,
      "outputs": [
        {
          "output_type": "stream",
          "name": "stdout",
          "text": [
            "Enter the first sorted list (space-separated): 5 4 3 1\n",
            "Enter the second sorted list (space-separated): 2 6 7\n",
            "Merged sorted list: [1, 2, 3, 4, 5, 6, 7]\n"
          ]
        }
      ]
    },
    {
      "cell_type": "markdown",
      "source": [
        "18.Implement a code to find the intersection of two given lists"
      ],
      "metadata": {
        "id": "APFSlwZSf4c9"
      }
    },
    {
      "cell_type": "code",
      "source": [
        "#Implement a code to find the intersection of two given lists\n",
        "def find_intersection(list1, list2):\n",
        "    return list(set(list1) & set(list2))\n",
        "\n",
        "list1 = list(map(int, input(\"Enter the first list (space-separated): \").split()))\n",
        "list2 = list(map(int, input(\"Enter the second list (space-separated): \").split()))\n",
        "\n",
        "intersection = find_intersection(list1, list2)\n",
        "print(\"Intersection of the two lists:\", intersection)\n"
      ],
      "metadata": {
        "id": "LI623Rwhf5LQ",
        "colab": {
          "base_uri": "https://localhost:8080/"
        },
        "outputId": "c0b679ab-c976-4522-c5b5-287fce3e007c"
      },
      "execution_count": null,
      "outputs": [
        {
          "output_type": "stream",
          "name": "stdout",
          "text": [
            "Enter the first list (space-separated): 5 4 3\n",
            "Enter the second list (space-separated): 3 2 1\n",
            "Intersection of the two lists: [3]\n"
          ]
        }
      ]
    },
    {
      "cell_type": "markdown",
      "source": [
        "19.Create a code to find the union of two lists without duplicates"
      ],
      "metadata": {
        "id": "MUGrNgDmf5hd"
      }
    },
    {
      "cell_type": "code",
      "source": [
        "#Create a code to find the union of two lists without duplicates\n",
        "def find_union(list1, list2):\n",
        "    return list(set(list1 + list2))\n",
        "\n",
        "list1 = list(map(int, input(\"Enter the first list (space-separated): \").split()))\n",
        "list2 = list(map(int, input(\"Enter the second list (space-separated): \").split()))\n",
        "\n",
        "union = find_union(list1, list2)\n",
        "print(\"Union of the two lists:\", union)\n"
      ],
      "metadata": {
        "id": "CBet5eKkf6NA",
        "colab": {
          "base_uri": "https://localhost:8080/"
        },
        "outputId": "6f62ebd7-c762-41e0-b328-7b8be2376ecf"
      },
      "execution_count": null,
      "outputs": [
        {
          "output_type": "stream",
          "name": "stdout",
          "text": [
            "Enter the first list (space-separated): 1 3  5 6\n",
            "Enter the second list (space-separated): 6 3 2 7\n",
            "Union of the two lists: [1, 2, 3, 5, 6, 7]\n"
          ]
        }
      ]
    },
    {
      "cell_type": "markdown",
      "source": [
        "20.Write a code to shuffle a given list randomly without using any built-in shuffle functions"
      ],
      "metadata": {
        "id": "aJcWLqfff6-W"
      }
    },
    {
      "cell_type": "code",
      "source": [
        "#Write a code to shuffle a given list randomly without using any built-in shuffle functions\n",
        "def shuffle_list(input_list):\n",
        "    n = len(input_list)\n",
        "\n",
        "    for i in range(n):\n",
        "        j = (i + 1) % n\n",
        "        input_list[i], input_list[j] = input_list[j], input_list[i]\n",
        "\n",
        "    return input_list\n",
        "\n",
        "user_input = input(\"Enter a list of elements separated by spaces: \")\n",
        "input_list = user_input.split()\n",
        "\n",
        "shuffled_list = shuffle_list(input_list)\n",
        "print(\"Shuffled List:\", shuffled_list)\n"
      ],
      "metadata": {
        "id": "IsHUltE3f7w1",
        "colab": {
          "base_uri": "https://localhost:8080/"
        },
        "outputId": "f825e06f-a1c7-4e58-dde6-aa0c5900f08e"
      },
      "execution_count": null,
      "outputs": [
        {
          "output_type": "stream",
          "name": "stdout",
          "text": [
            "Enter a list of elements separated by spaces: 5 4 3 2 1\n",
            "Shuffled List: ['5', '3', '2', '1', '4']\n"
          ]
        }
      ]
    },
    {
      "cell_type": "markdown",
      "source": [
        "21.Write a code that takes two tuples as input and returns a new tuple containing elements that are\n",
        "common to both input tuples"
      ],
      "metadata": {
        "id": "58rFIWnmf8QL"
      }
    },
    {
      "cell_type": "code",
      "source": [
        "#Write a code that takes two tuples as input and returns a new tuple containing elements that are\n",
        "#common to both input tuples\n",
        "\n",
        "def find_common_elements(tuple1, tuple2):\n",
        "    return tuple(set(tuple1) & set(tuple2))\n",
        "\n",
        "tuple1 = tuple(input(\"Enter elements of the first tuple separated by spaces: \").split())\n",
        "tuple2 = tuple(input(\"Enter elements of the second tuple separated by spaces: \").split())\n",
        "\n",
        "result = find_common_elements(tuple1, tuple2)\n",
        "print(\"Common elements:\", result)\n",
        "\n"
      ],
      "metadata": {
        "id": "_a7m9Tgxf9AO",
        "colab": {
          "base_uri": "https://localhost:8080/"
        },
        "outputId": "6d9f92a7-3591-425a-aa0a-681e5c02dd05"
      },
      "execution_count": null,
      "outputs": [
        {
          "output_type": "stream",
          "name": "stdout",
          "text": [
            "Enter elements of the first tuple separated by spaces: 5 4 1 2\n",
            "Enter elements of the second tuple separated by spaces: 2 4 6 7\n",
            "Common elements: ('4', '2')\n"
          ]
        }
      ]
    },
    {
      "cell_type": "markdown",
      "source": [
        "22.Create a code that prompts the user to enter two sets of integers separated by commas. Then, print the\n",
        "intersection of these two sets"
      ],
      "metadata": {
        "id": "nlnEpSDNf9gt"
      }
    },
    {
      "cell_type": "code",
      "source": [
        "#Create a code that prompts the user to enter two sets of integers separated by commas. Then, print the intersection of these two sets\n",
        "def find_intersection():\n",
        "    set1 = set(input(\"Enter the first set of integers separated by commas: \").split(','))\n",
        "    set2 = set(input(\"Enter the second set of integers separated by commas: \").split(','))\n",
        "\n",
        "    intersection = set1 & set2\n",
        "\n",
        "    print(\"Intersection of the two sets:\", intersection)\n",
        "find_intersection()\n"
      ],
      "metadata": {
        "id": "ikKMIXhDf-WK",
        "colab": {
          "base_uri": "https://localhost:8080/"
        },
        "outputId": "f0191892-ae36-4209-801a-3c727af95aec"
      },
      "execution_count": null,
      "outputs": [
        {
          "output_type": "stream",
          "name": "stdout",
          "text": [
            "Enter the first set of integers separated by commas: 2,3,4,5\n",
            "Enter the second set of integers separated by commas: 6,4,5\n",
            "Intersection of the two sets: {'4', '5'}\n"
          ]
        }
      ]
    },
    {
      "cell_type": "markdown",
      "source": [
        "23.Write a code to concatenate two tuples. The function should take two tuples as input and return a new\n",
        "tuple containing elements from both input tuples"
      ],
      "metadata": {
        "id": "VbPCOtyDf-r2"
      }
    },
    {
      "cell_type": "code",
      "source": [
        "#Write a code to concatenate two tuples. The function should take two tuples as input and return a new tuple containing elements from both input tuples\n",
        "def concatenate_tuples(tuple1, tuple2):\n",
        "    return tuple1 + tuple2\n",
        "\n",
        "tuple1 = tuple(input(\"Enter the first tuple (separated by spaces): \").split())\n",
        "tuple2 = tuple(input(\"Enter the second tuple (separated by spaces): \").split())\n",
        "\n",
        "result = concatenate_tuples(tuple1, tuple2)\n",
        "print(\"Concatenated tuple:\", result)\n"
      ],
      "metadata": {
        "id": "Ly2FwiiMf_g4",
        "colab": {
          "base_uri": "https://localhost:8080/"
        },
        "outputId": "a002449b-15e8-4777-ad8d-1df91dd30c2b"
      },
      "execution_count": null,
      "outputs": [
        {
          "output_type": "stream",
          "name": "stdout",
          "text": [
            "Enter the first tuple (separated by spaces): 1 2 3 \n",
            "Enter the second tuple (separated by spaces): 4 5 6\n",
            "Concatenated tuple: ('1', '2', '3', '4', '5', '6')\n"
          ]
        }
      ]
    },
    {
      "cell_type": "markdown",
      "source": [
        "24.Develop a code that prompts the user to input two sets of strings. Then, print the elements that are\n",
        "present in the first set but not in the second set"
      ],
      "metadata": {
        "id": "JGw34Qq5f_-p"
      }
    },
    {
      "cell_type": "code",
      "source": [
        "#Develop a code that prompts the user to input two sets of strings. Then, print the elements that are present in the first set but not in the second set\n",
        "\n",
        "def difference_of_sets():\n",
        "    set1 = set(input(\"Enter the first set of strings separated by commas: \").split(','))\n",
        "    set2 = set(input(\"Enter the second set of strings separated by commas: \").split(','))\n",
        "\n",
        "    difference = set1 - set2\n",
        "\n",
        "    print(\"Elements present in the first set but not in the second set:\", difference)\n",
        "\n",
        "difference_of_sets()\n"
      ],
      "metadata": {
        "id": "px2hyLgBgA3z",
        "colab": {
          "base_uri": "https://localhost:8080/"
        },
        "outputId": "a7d288a9-54aa-4160-eb69-fe47e8431bdf"
      },
      "execution_count": null,
      "outputs": [
        {
          "output_type": "stream",
          "name": "stdout",
          "text": [
            "Enter the first set of strings separated by commas: ant,bat,cat,dog\n",
            "Enter the second set of strings separated by commas: cat,dog,hen\n",
            "Elements present in the first set but not in the second set: {'bat', 'ant'}\n"
          ]
        }
      ]
    },
    {
      "cell_type": "markdown",
      "source": [
        "25.Create a code that takes a tuple and two integers as input. The function should return a new tuple\n",
        "containing elements from the original tuple within the specified range of indices"
      ],
      "metadata": {
        "id": "E0UFPqLjgHA_"
      }
    },
    {
      "cell_type": "code",
      "source": [
        "#Create a code that takes a tuple and two integers as input. The function should return a new tuple containing elements from the original tuple within the specified range of indices\n",
        "\n",
        "def extract_elements_within_range(input_tuple, start_index, end_index):\n",
        "    return input_tuple[start_index:end_index]\n",
        "\n",
        "input_tuple = tuple(input(\"Enter elements of the tuple separated by spaces: \").split())\n",
        "start_index = int(input(\"Enter the start index: \"))\n",
        "end_index = int(input(\"Enter the end index: \"))\n",
        "\n",
        "result = extract_elements_within_range(input_tuple, start_index, end_index)\n",
        "print(\"Extracted elements:\", result)\n"
      ],
      "metadata": {
        "id": "274qU3bhgH9P",
        "colab": {
          "base_uri": "https://localhost:8080/"
        },
        "outputId": "3d59c594-82f9-4248-9e2e-da713de5e147"
      },
      "execution_count": null,
      "outputs": [
        {
          "output_type": "stream",
          "name": "stdout",
          "text": [
            "Enter elements of the tuple separated by spaces: 1 2 4 5 6 7\n",
            "Enter the start index: 1\n",
            "Enter the end index: 5\n",
            "Extracted elements: ('2', '4', '5', '6')\n"
          ]
        }
      ]
    },
    {
      "cell_type": "markdown",
      "source": [
        "26.Write a code that prompts the user to input two sets of characters. Then, print the union of these two sets"
      ],
      "metadata": {
        "id": "yGyu1QlXgISk"
      }
    },
    {
      "cell_type": "code",
      "source": [
        "#Write a code that prompts the user to input two sets of characters. Then, print the union of these two sets\n",
        "\n",
        "def union_of_sets():\n",
        "    set1 = set(input(\"Enter the first set of characters separated by commas: \").split(','))\n",
        "    set2 = set(input(\"Enter the second set of characters separated by commas: \").split(','))\n",
        "\n",
        "    union = set1.union(set2)\n",
        "\n",
        "    print(\"Union of the two sets:\", union)\n",
        "\n",
        "union_of_sets()\n"
      ],
      "metadata": {
        "id": "9FTSQZTugJCY",
        "colab": {
          "base_uri": "https://localhost:8080/"
        },
        "outputId": "22e18b8f-6075-42d6-bd26-ab4466c0a6b4"
      },
      "execution_count": null,
      "outputs": [
        {
          "output_type": "stream",
          "name": "stdout",
          "text": [
            "Enter the first set of characters separated by commas: a,b,c\n",
            "Enter the second set of characters separated by commas: c,d,e\n",
            "Union of the two sets: {'a', 'e', 'c', 'b', 'd'}\n"
          ]
        }
      ]
    },
    {
      "cell_type": "markdown",
      "source": [
        "27.Develop a code that takes a tuple of integers as input. The function should return the maximum and\n",
        "minimum values from the tuple using tuple unpacking"
      ],
      "metadata": {
        "id": "1hPCrultgJdM"
      }
    },
    {
      "cell_type": "code",
      "source": [
        "#Develop a code that takes a tuple of integers as input. The function should return the maximum and minimum values from the tuple using tuple unpacking\n",
        "\n",
        "def find_max_min(input_tuple):\n",
        "    return max(input_tuple), min(input_tuple)\n",
        "\n",
        "input_tuple = tuple(map(int, input(\"Enter integers separated by spaces: \").split()))\n",
        "\n",
        "max_value, min_value = find_max_min(input_tuple)\n",
        "\n",
        "print(\"Max:\", max_value, \"Min:\", min_value)\n"
      ],
      "metadata": {
        "id": "yzYj8k6OgKIu",
        "colab": {
          "base_uri": "https://localhost:8080/"
        },
        "outputId": "2431b783-5e4e-4b32-ecda-c4f580e2fb4d"
      },
      "execution_count": null,
      "outputs": [
        {
          "output_type": "stream",
          "name": "stdout",
          "text": [
            "Enter integers separated by spaces: 5 4 2 33\n",
            "Max: 33 Min: 2\n"
          ]
        }
      ]
    },
    {
      "cell_type": "markdown",
      "source": [
        "28.Create a code that defines two sets of integers. Then, print the union, intersection, and difference of these\n",
        "two sets"
      ],
      "metadata": {
        "id": "NY-aWY7jgKj5"
      }
    },
    {
      "cell_type": "code",
      "source": [
        "#Create a code that defines two sets of integers. Then, print the union, intersection, and difference of these two sets\n",
        "def set_operations():\n",
        "    set1 = set(map(int, input(\"Enter first set of integers: \").split()))\n",
        "    set2 = set(map(int, input(\"Enter second set of integers: \").split()))\n",
        "\n",
        "    print(\"Union:\", set1 | set2)\n",
        "    print(\"Intersection:\", set1 & set2)\n",
        "    print(\"Difference (set1 - set2):\", set1 - set2)\n",
        "\n",
        "set_operations()\n"
      ],
      "metadata": {
        "id": "BROFiHjCgLVj",
        "colab": {
          "base_uri": "https://localhost:8080/"
        },
        "outputId": "17dce5f9-18ed-492d-9cf2-0bd3e2b32134"
      },
      "execution_count": null,
      "outputs": [
        {
          "output_type": "stream",
          "name": "stdout",
          "text": [
            "Enter first set of integers: 5 4 3 6 8\n",
            "Enter second set of integers: 2 3 5 9\n",
            "Union: {2, 3, 4, 5, 6, 8, 9}\n",
            "Intersection: {3, 5}\n",
            "Difference (set1 - set2): {8, 4, 6}\n"
          ]
        }
      ]
    },
    {
      "cell_type": "markdown",
      "source": [
        "29.Write a code that takes a tuple and an element as input. The function should return the count of\n",
        "occurrences of the given element in the tuple"
      ],
      "metadata": {
        "id": "OlbpAk3LgLl1"
      }
    },
    {
      "cell_type": "code",
      "source": [
        "#Write a code that takes a tuple and an element as input. The function should return the count of occurrences of the given element in the tuple\n",
        "\n",
        "def count_occurrences(input_tuple, element):\n",
        "    return input_tuple.count(element)\n",
        "\n",
        "input_tuple = tuple(map(int, input(\"Enter the elements of the tuple separated by spaces: \").split()))\n",
        "element = int(input(\"Enter the element to count: \"))\n",
        "\n",
        "count = count_occurrences(input_tuple, element)\n",
        "print(f\"The element {element} appears {count} times in the tuple.\")\n"
      ],
      "metadata": {
        "id": "EWO4CPlZgMTh",
        "colab": {
          "base_uri": "https://localhost:8080/"
        },
        "outputId": "a13ae582-a562-4334-d952-e767908eb510"
      },
      "execution_count": null,
      "outputs": [
        {
          "output_type": "stream",
          "name": "stdout",
          "text": [
            "Enter the elements of the tuple separated by spaces: 5 6 6 3 4 2\n",
            "Enter the element to count: 6\n",
            "The element 6 appears 2 times in the tuple.\n"
          ]
        }
      ]
    },
    {
      "cell_type": "markdown",
      "source": [
        "30.Develop a code that prompts the user to input two sets of strings. Then, print the symmetric difference of\n",
        "these two sets"
      ],
      "metadata": {
        "id": "TvwOOnLsgMqI"
      }
    },
    {
      "cell_type": "code",
      "source": [
        "#Develop a code that prompts the user to input two sets of strings. Then, print the symmetric difference of these two sets\n",
        "\n",
        "def symmetric_difference_of_sets():\n",
        "\n",
        "    set1 = set(input(\"Enter the first set of strings separated by spaces: \").split())\n",
        "    set2 = set(input(\"Enter the second set of strings separated by spaces: \").split())\n",
        "\n",
        "    symmetric_difference = set1.symmetric_difference(set2)\n",
        "\n",
        "    print(\"Symmetric Difference:\", symmetric_difference)\n",
        "\n",
        "symmetric_difference_of_sets()\n"
      ],
      "metadata": {
        "id": "xNEq-YdsgNQn",
        "colab": {
          "base_uri": "https://localhost:8080/"
        },
        "outputId": "be925842-e16a-469b-a5c6-caba507dc476"
      },
      "execution_count": null,
      "outputs": [
        {
          "output_type": "stream",
          "name": "stdout",
          "text": [
            "Enter the first set of strings separated by spaces: cat dog mouse\n",
            "Enter the second set of strings separated by spaces: cat ant rat\n",
            "Symmetric Difference: {'ant', 'mouse', 'dog', 'rat'}\n"
          ]
        }
      ]
    },
    {
      "cell_type": "markdown",
      "source": [
        "31.Write a code that takes a list of words as input and returns a dictionary where the keys are unique words\n",
        "and the values are the frequencies of those words in the input list"
      ],
      "metadata": {
        "id": "U15foqJbh7Ez"
      }
    },
    {
      "cell_type": "code",
      "source": [
        "#Write a code that takes a list of words as input and returns a dictionary where the keys are unique words and the values are the frequencies of those words in the input list\n",
        "\n",
        "def word_frequency():\n",
        "    words = input(\"Enter a list of words separated by spaces: \").split()\n",
        "\n",
        "    word_count = {}\n",
        "\n",
        "    for word in words:\n",
        "        word_count[word] = word_count.get(word, 0) + 1\n",
        "\n",
        "    print(\"Word Frequencies:\", word_count)\n",
        "word_frequency()\n"
      ],
      "metadata": {
        "id": "t-aL2BBnh78C",
        "colab": {
          "base_uri": "https://localhost:8080/"
        },
        "outputId": "2641940d-bd21-4cdc-8c3b-a73fa0f2040b"
      },
      "execution_count": null,
      "outputs": [
        {
          "output_type": "stream",
          "name": "stdout",
          "text": [
            "Enter a list of words separated by spaces: bat cat rat mat rat bat goat\n",
            "Word Frequencies: {'bat': 2, 'cat': 1, 'rat': 2, 'mat': 1, 'goat': 1}\n"
          ]
        }
      ]
    },
    {
      "cell_type": "markdown",
      "source": [
        "32.Write a code that takes two dictionaries as input and merges them into a single dictionary. If there are\n",
        "common keys, the values should be added together"
      ],
      "metadata": {
        "id": "DSQnKO6gh8dO"
      }
    },
    {
      "cell_type": "code",
      "source": [
        "#Write a code that takes two dictionaries as input and merges them into a single dictionary. If there are common keys, the values should be added together\n",
        "\n",
        "def merge_dictionaries():\n",
        "    dict1 = eval(input(\"Enter the first dictionary: \"))\n",
        "    dict2 = eval(input(\"Enter the second dictionary: \"))\n",
        "\n",
        "    merged_dict = dict1.copy()\n",
        "    for key, value in dict2.items():\n",
        "        if key in merged_dict:\n",
        "            merged_dict[key] += value\n",
        "        else:\n",
        "            merged_dict[key] = value\n",
        "\n",
        "    print(\"Merged Dictionary:\", merged_dict)\n",
        "\n",
        "merge_dictionaries()\n"
      ],
      "metadata": {
        "id": "0JGSi07Mh-Hf",
        "colab": {
          "base_uri": "https://localhost:8080/"
        },
        "outputId": "9e033afc-1a8a-45a0-c90b-cc875add74e9"
      },
      "execution_count": null,
      "outputs": [
        {
          "output_type": "stream",
          "name": "stdout",
          "text": [
            "Enter the first dictionary: {'a':10,'b':20,'c':35}\n",
            "Enter the second dictionary: {'c':10,'d':25,'e':30}\n",
            "Merged Dictionary: {'a': 10, 'b': 20, 'c': 45, 'd': 25, 'e': 30}\n"
          ]
        }
      ]
    },
    {
      "cell_type": "markdown",
      "source": [
        "33.Write a code to access a value in a nested dictionary. The function should take the dictionary and a list of\n",
        "keys as input, and return the corresponding value. If any of the keys do not exist in the dictionary, the\n",
        "function should return None"
      ],
      "metadata": {
        "id": "LYvFdaaGiBa0"
      }
    },
    {
      "cell_type": "code",
      "source": [
        "#Write a code to access a value in a nested dictionary. The function should take the dictionary and a list of keys as input, and return the corresponding value. If any of the keys do not exist in the dictionary, the function should return None\n",
        "def access_nested_dict_value(d, keys):\n",
        "    for key in keys:\n",
        "        d = d.get(key)\n",
        "        if d is None:\n",
        "            return None\n",
        "    return d\n",
        "\n",
        "nested_dict = {\n",
        "    'a': {\n",
        "        'b': {\n",
        "            'c': 10\n",
        "        }\n",
        "    },\n",
        "    'x': {\n",
        "        'y': 20\n",
        "    }\n",
        "}\n",
        "\n",
        "keys = input(\"Enter the list of keys separated by spaces: \").split()\n",
        "\n",
        "result = access_nested_dict_value(nested_dict, keys)\n",
        "print(\"The value is:\", result)\n",
        "\n"
      ],
      "metadata": {
        "id": "F0TRsjVYiC28",
        "colab": {
          "base_uri": "https://localhost:8080/"
        },
        "outputId": "1b845649-129c-4d3a-ce1a-43173ff1de68"
      },
      "execution_count": null,
      "outputs": [
        {
          "output_type": "stream",
          "name": "stdout",
          "text": [
            "Enter the list of keys separated by spaces: a b c\n",
            "The value is: 10\n"
          ]
        }
      ]
    },
    {
      "cell_type": "markdown",
      "source": [
        "34.Write a code that takes a dictionary as input and returns a sorted version of it based on the values. You\n",
        "can choose whether to sort in ascending or descending order"
      ],
      "metadata": {
        "id": "t9IK7KLliDdO"
      }
    },
    {
      "cell_type": "code",
      "source": [
        "#Write a code that takes a dictionary as input and returns a sorted version of it based on the values. You can choose whether to sort in ascending or descending order\n",
        "\n",
        "def sort_dict_by_value(d, descending=False):\n",
        "    sorted_dict = {k: v for k, v in sorted(d.items(), key=lambda item: item[1], reverse=descending)}\n",
        "    return sorted_dict\n",
        "\n",
        "input_dict = eval(input(\"Enter the dictionary: \"))\n",
        "order = input(\"Do you want to sort in descending order? (yes/no): \").strip().lower()\n",
        "\n",
        "descending = True if order == 'yes' else False\n",
        "\n",
        "sorted_dict = sort_dict_by_value(input_dict, descending)\n",
        "print(\"Sorted Dictionary:\", sorted_dict)\n"
      ],
      "metadata": {
        "id": "K2j6zbmxiEkF",
        "colab": {
          "base_uri": "https://localhost:8080/"
        },
        "outputId": "6c321525-d5bb-4963-db32-36b9160d24be"
      },
      "execution_count": null,
      "outputs": [
        {
          "output_type": "stream",
          "name": "stdout",
          "text": [
            "Enter the dictionary: {'a':10,'b':20,'c':5}\n",
            "Do you want to sort in descending order? (yes/no): yes\n",
            "Sorted Dictionary: {'b': 20, 'a': 10, 'c': 5}\n"
          ]
        }
      ]
    },
    {
      "cell_type": "markdown",
      "source": [
        "35.Write a code that inverts a dictionary, swapping keys and values. Ensure that the inverted dictionary\n",
        "correctly handles cases where multiple keys have the same value by storing the keys as a list in the\n",
        "inverted dictionary"
      ],
      "metadata": {
        "id": "1GIB6IpCiFCU"
      }
    },
    {
      "cell_type": "code",
      "source": [
        "#Write a code that inverts a dictionary, swapping keys and values. Ensure that the inverted dictionary correctly handles cases where multiple keys have the same value by storing the keys as a list in the inverted dictionary\n",
        "\n",
        "def invert_dictionary(input_dict):\n",
        "    inverted_dict = {}\n",
        "\n",
        "    for key, value in input_dict.items():\n",
        "        if value in inverted_dict:\n",
        "            inverted_dict[value].append(key)\n",
        "        else:\n",
        "            inverted_dict[value] = [key]\n",
        "\n",
        "    return inverted_dict\n",
        "\n",
        "input_dict = eval(input(\"Enter the dictionary: \"))\n",
        "inverted_dict = invert_dictionary(input_dict)\n",
        "print(inverted_dict)\n"
      ],
      "metadata": {
        "id": "a_fmCxgViGaV",
        "colab": {
          "base_uri": "https://localhost:8080/"
        },
        "outputId": "280b110f-62d4-4dec-ebe5-7f60854a6b53"
      },
      "execution_count": null,
      "outputs": [
        {
          "output_type": "stream",
          "name": "stdout",
          "text": [
            "Enter the dictionary: {'a': 1, 'b': 2, 'c': 1, 'd': 3}\n",
            "{1: ['a', 'c'], 2: ['b'], 3: ['d']}\n"
          ]
        }
      ]
    }
  ]
}