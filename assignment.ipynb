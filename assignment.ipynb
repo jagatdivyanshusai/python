{
  "nbformat": 4,
  "nbformat_minor": 0,
  "metadata": {
    "colab": {
      "provenance": [],
      "toc_visible": true,
      "authorship_tag": "ABX9TyNYkhjcsCl/yi0XMO884YfC",
      "include_colab_link": true
    },
    "kernelspec": {
      "name": "python3",
      "display_name": "Python 3"
    },
    "language_info": {
      "name": "python"
    }
  },
  "cells": [
    {
      "cell_type": "markdown",
      "metadata": {
        "id": "view-in-github",
        "colab_type": "text"
      },
      "source": [
        "<a href=\"https://colab.research.google.com/github/jagatdivyanshusai/python/blob/main/assignment.ipynb\" target=\"_parent\"><img src=\"https://colab.research.google.com/assets/colab-badge.svg\" alt=\"Open In Colab\"/></a>"
      ]
    },
    {
      "cell_type": "code",
      "execution_count": null,
      "metadata": {
        "colab": {
          "base_uri": "https://localhost:8080/",
          "height": 36
        },
        "id": "DL2wudygBRij",
        "outputId": "072517cb-2e37-47a6-854c-41e44bd021d4"
      },
      "outputs": [
        {
          "output_type": "execute_result",
          "data": {
            "text/plain": [
              "'noD si eman yM'"
            ],
            "application/vnd.google.colaboratory.intrinsic+json": {
              "type": "string"
            }
          },
          "metadata": {},
          "execution_count": 2
        }
      ],
      "source": [
        "#Write a code to reverse a string\n",
        "string= \"My name is Don\"\n",
        "string[::-1]\n"
      ]
    },
    {
      "cell_type": "code",
      "source": [
        "# Write a code to count the number of vowels in a string\n",
        "string= \"Kaun Banega Crorepati\"\n",
        "string.lower()\n",
        "vowels = \"aeiou\"\n",
        " count_vowels(string)\n",
        "print(\"Number of vowels:\", vowel_count)"
      ],
      "metadata": {
        "id": "ub4avrwPB8L9",
        "colab": {
          "base_uri": "https://localhost:8080/",
          "height": 106
        },
        "outputId": "1f5bed34-26d8-4fc9-a3b2-543acab34a75"
      },
      "execution_count": null,
      "outputs": [
        {
          "output_type": "error",
          "ename": "IndentationError",
          "evalue": "unexpected indent (<ipython-input-7-4306b874db92>, line 5)",
          "traceback": [
            "\u001b[0;36m  File \u001b[0;32m\"<ipython-input-7-4306b874db92>\"\u001b[0;36m, line \u001b[0;32m5\u001b[0m\n\u001b[0;31m    count_vowels(string)\u001b[0m\n\u001b[0m    ^\u001b[0m\n\u001b[0;31mIndentationError\u001b[0m\u001b[0;31m:\u001b[0m unexpected indent\n"
          ]
        }
      ]
    }
  ]
}